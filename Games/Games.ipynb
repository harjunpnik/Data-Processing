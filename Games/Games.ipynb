{
 "cells": [
  {
   "cell_type": "markdown",
   "metadata": {},
   "source": [
    "# Games"
   ]
  },
  {
   "cell_type": "markdown",
   "metadata": {},
   "source": [
    "## Game 1 - Rock, Paper, Scissors\n",
    "\n",
    "Game 1 has 3 methods:\n",
    "playerNameInput(), playerChoice(p1,p2) och logic(p1,p2,p1c,p2c).\n",
    "\n",
    "The game starts by asking the players name with playerNameInput() and then passes the variables to the playerChoice().\n",
    "After the game has received the player choices it passes the variables to the logic() method which returns a string of who won.\n",
    "Lastly the game asks the players if they want to play again. If the user enters 'n' , then the program quits the game."
   ]
  },
  {
   "cell_type": "code",
   "execution_count": 1,
   "metadata": {},
   "outputs": [
    {
     "name": "stdout",
     "output_type": "stream",
     "text": [
      "Player 1 enter your name:Nick\n",
      "Player 2 enter your name:Jon\n",
      "Nick enter your choice (r,p,s):········\n",
      "Jon enter your choice (r,p,s):········\n",
      "Nick wins!\n",
      "Write anyhing to play again, write 'n' to quit:\n",
      "Nick enter your choice (r,p,s):········\n",
      "Jon enter your choice (r,p,s):········\n",
      "Jon wins!\n",
      "Write anyhing to play again, write 'n' to quit:Continue\n",
      "Nick enter your choice (r,p,s):········\n",
      "Jon enter your choice (r,p,s):········\n",
      "Draw, nobody wins\n",
      "Write anyhing to play again, write 'n' to quit:Yes\n",
      "Nick enter your choice (r,p,s):········\n",
      "Jon enter your choice (r,p,s):········\n",
      "Jon wins!\n",
      "Write anyhing to play again, write 'n' to quit:n\n",
      "Thank you for playing\n"
     ]
    }
   ],
   "source": [
    "import sys\n",
    "import getpass\n",
    "\n",
    "def playerNameInput():   \n",
    "    \"\"\"\n",
    "    This function prompts two users to enter their names.\n",
    "    This returns the names\n",
    "    \"\"\"\n",
    "    p1 = input(\"Player 1 enter your name:\")\n",
    "    p2 = input(\"Player 2 enter your name:\")\n",
    "    return(p1,p2)\n",
    "\n",
    "def playerChoice(p1,p2):\n",
    "    \"\"\"\n",
    "    This function takes in two parameters: player1 name and player2 name.\n",
    "    It prompts the users to enter their choice for RPS\n",
    "    This returns the players choices.\n",
    "    \"\"\"\n",
    "    p1choice = getpass.getpass(prompt =(\"{name} enter your choice (r,p,s):\".format(name = p1)))\n",
    "    p2choice = getpass.getpass(prompt =(\"{name} enter your choice (r,p,s):\".format(name = p2)))\n",
    "    return(p1choice,p2choice)\n",
    "    \n",
    "def logic(p1,p2,p1c,p2c):\n",
    "    \"\"\"This function takes in 4 parameters: \n",
    "    player1 name, player2 name, player1 choice, player2 choice. \n",
    "    This returns a string of who wins rock paper scissors based on the players choices\n",
    "    \"\"\"\n",
    "    pass\n",
    "    # Make inputs lower case for comparissons\n",
    "    p1c = p1c.lower()\n",
    "    p2c = p2c.lower()\n",
    "    \n",
    "    if(p1c == p2c):\n",
    "        return(\"Draw, nobody wins\")\n",
    "    elif(p1c ==  \"r\" and p2c == \"p\"):\n",
    "        return(\"{name} wins!\".format(name = p2))\n",
    "    elif(p1c ==  \"r\" and p2c == \"s\"):\n",
    "        return(\"{name} wins!\".format(name = p1))\n",
    "    elif(p1c ==  \"p\" and p2c == \"r\"):\n",
    "        return(\"{name} wins!\".format(name = p1))     \n",
    "    elif(p1c ==  \"p\" and p2c == \"s\"):\n",
    "        return(\"{name} wins!\".format(name = p2))\n",
    "    elif(p1c ==  \"s\" and p2c == \"p\"):\n",
    "        return(\"{name} wins!\".format(name = p1))\n",
    "    elif(p1c ==  \"s\" and p2c == \"r\"):\n",
    "        return(\"{name} wins!\".format(name = p2))\n",
    "    else:\n",
    "        return(\"Something went wrong\")        \n",
    "\n",
    "p1,p2 = playerNameInput()\n",
    "\n",
    "while(True):\n",
    "    p1c,p2c = playerChoice(p1,p2)\n",
    "    print(logic(p1,p2,p1c,p2c))\n",
    "    \n",
    "    playAgain = input(\"Write anyhing to play again, write 'n' to quit:\")\n",
    "    if(playAgain == 'n'):\n",
    "        print('Thank you for playing')\n",
    "        break;\n",
    "\n",
    "exit()"
   ]
  },
  {
   "cell_type": "markdown",
   "metadata": {},
   "source": [
    "## Game 2 - Mindreader\n",
    "\n",
    "The game has one method logic() which returns a string if the number is correct, lower or higher.\n",
    "The game is looped until the player guesses right when it prompts the user how many tries it took. After the player has guessed the number correct, it can be exited by writing 'y' in the console."
   ]
  },
  {
   "cell_type": "code",
   "execution_count": 2,
   "metadata": {},
   "outputs": [
    {
     "name": "stdout",
     "output_type": "stream",
     "text": [
      "Guess my number? (between 0-10) \n",
      "11\n",
      "Lower\n",
      "Guess my number? (between 0-10) \n",
      "2\n",
      "Higher\n",
      "Guess my number? (between 0-10) \n",
      "6\n",
      "Lower\n",
      "Guess my number? (between 0-10) \n",
      "4\n",
      "Correct\n",
      "It took you 4 to guess my number\n",
      "Write 'y' to Exit \n",
      "\n",
      "Guess my number? (between 0-10) \n",
      "4\n",
      "Higher\n",
      "Guess my number? (between 0-10) \n",
      "8\n",
      "Lower\n",
      "Guess my number? (between 0-10) \n",
      "6\n",
      "Higher\n",
      "Guess my number? (between 0-10) \n",
      "7\n",
      "Correct\n",
      "It took you 4 to guess my number\n",
      "Write 'y' to Exit \n",
      "y\n",
      "Thanks for playing\n"
     ]
    }
   ],
   "source": [
    "import sys\n",
    "import random\n",
    "\n",
    "def logic(guess,number):\n",
    "    \"\"\" This function takes in two numbers and compares the guess to the number and returns a string based on if the guess is\n",
    "    Correct, Lower or Higher\n",
    "    \"\"\"\n",
    "    if(guess == number):\n",
    "        return(\"Correct\")\n",
    "    elif(guess > number):\n",
    "        return(\"Lower\")\n",
    "    elif(guess < number):\n",
    "        return(\"Higher\")\n",
    "\n",
    "number = random.randint(0,10)\n",
    "i = 0\n",
    "while(True):\n",
    "    i += 1\n",
    "    guess = int(input(\"Guess my number? (between 0-10) \\n\"))\n",
    "    print(logic(guess,number))\n",
    "    \n",
    "    if(guess == number):\n",
    "        print(\"It took you {times} to guess my number\".format(times = i))\n",
    "        if(input(\"Write 'y' to Exit \\n\") == 'y'):\n",
    "            print(\"Thanks for playing\")\n",
    "            break\n",
    "        i = 0\n",
    "        number = random.randint(0,10)\n",
    "        \n",
    "exit()"
   ]
  },
  {
   "cell_type": "markdown",
   "metadata": {},
   "source": [
    "## Game 3 - Optimus prime\n",
    "\n",
    "The game has 2 methods userInput() and logic().\n",
    "UserInput takes in a number and converts it to an int.\n",
    "Logic takes the number and checks if the number is a prime number. Based on the result the program will return a string that tells if the number is a prime number or not.\n",
    "\n",
    "Things to take in consideration:\n",
    "* Number should only be dividable by 1 or itself\n",
    "* exceptions when n is 1, 0 or negative (Could be solved with a single check if n is bigger than 1) "
   ]
  },
  {
   "cell_type": "code",
   "execution_count": 1,
   "metadata": {},
   "outputs": [
    {
     "name": "stdout",
     "output_type": "stream",
     "text": [
      "Please enter a number: \n",
      "12341339\n",
      "Number 12341339 is a prime number\n"
     ]
    }
   ],
   "source": [
    "import sys \n",
    "\n",
    "def userInput():\n",
    "    return int(input(\"Please enter a number: \\n\"))\n",
    "\n",
    "def logic(number):\n",
    "    if(number > 1):\n",
    "        # Shall only be dividable by itself or 1\n",
    "        for n in range(2, number):\n",
    "            # if the number is dividable by  anumber between 2 or itself\n",
    "            if(number % n)==0:\n",
    "                print(\"Number {num} is not a prime number\".format( num = number))\n",
    "                break\n",
    "        else:\n",
    "            print(\"Number {num} is a prime number\".format( num = number))\n",
    "    # Exception when the number is less than 1 \n",
    "    else:\n",
    "        return(\"Number {num} is not a prime number\".format( num = number))\n",
    "\n",
    "logic(userInput())\n",
    "exit()"
   ]
  },
  {
   "cell_type": "code",
   "execution_count": null,
   "metadata": {},
   "outputs": [],
   "source": []
  }
 ],
 "metadata": {
  "kernelspec": {
   "display_name": "Python 3",
   "language": "python",
   "name": "python3"
  },
  "language_info": {
   "codemirror_mode": {
    "name": "ipython",
    "version": 3
   },
   "file_extension": ".py",
   "mimetype": "text/x-python",
   "name": "python",
   "nbconvert_exporter": "python",
   "pygments_lexer": "ipython3",
   "version": "3.7.3"
  }
 },
 "nbformat": 4,
 "nbformat_minor": 2
}
